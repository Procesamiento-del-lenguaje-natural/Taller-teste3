{
 "cells": [
  {
   "cell_type": "markdown",
   "metadata": {
    "id": "sVuz0hhFdyqB"
   },
   "source": [
    "# [Taller] Introducción NLP"
   ]
  },
  {
   "cell_type": "markdown",
   "metadata": {
    "id": "CqfuRZMnU25k"
   },
   "source": [
    "Procesamiento de Lenguaje Natural - 3011176"
   ]
  },
  {
   "cell_type": "markdown",
   "metadata": {
    "id": "tw1jeTu9HIbj"
   },
   "source": [
    "**Objetivo**\n",
    "Realizar unos ejercicios para poner en practica la manipulacion de texto en python\n",
    "\n",
    "**Contenido**\n",
    "- Limpieza de texto\n",
    "- Normalización de texto\n",
    "- Pyspellchecker\n",
    "- Preprocesamiento\n",
    "- Librerias"
   ]
  },
  {
   "cell_type": "markdown",
   "metadata": {
    "id": "rjDd0bR6TOx_"
   },
   "source": [
    "##Consideraciones"
   ]
  },
  {
   "cell_type": "markdown",
   "metadata": {
    "id": "G4rpr0t7TQqz"
   },
   "source": [
    "Ejecute el cuaderno en orden\n",
    "NO modifique el primer bloque del ejercicio 1"
   ]
  },
  {
   "cell_type": "markdown",
   "metadata": {
    "id": "kTzZo_E5_xq4"
   },
   "source": [
    "## Ejercicio 3"
   ]
  },
  {
   "cell_type": "markdown",
   "metadata": {
    "id": "mGt3OTjI_-95"
   },
   "source": [
    "Usando [regex](https://www.w3schools.com/python/python_regex.asp) complete, Tip: Esta pagina es de utilidad https://regexr.com/"
   ]
  },
  {
   "cell_type": "code",
   "execution_count": 8,
   "metadata": {
    "execution": {
     "iopub.execute_input": "2025-09-30T23:53:29.096989Z",
     "iopub.status.busy": "2025-09-30T23:53:29.096989Z",
     "iopub.status.idle": "2025-09-30T23:53:29.119547Z",
     "shell.execute_reply": "2025-09-30T23:53:29.118539Z",
     "shell.execute_reply.started": "2025-09-30T23:53:29.096989Z"
    },
    "id": "WBOfs_bfBciG"
   },
   "outputs": [
    {
     "name": "stdout",
     "output_type": "stream",
     "text": [
      "Validar números:\n",
      "<re.Match object; span=(0, 6), match='124456'>\n",
      "None\n",
      "______________________________________________________________________________\n",
      "Validar letras:\n",
      "<re.Match object; span=(0, 5), match='alejo'>\n",
      "None\n",
      "______________________________________________________________________________\n",
      "Validar direcciones:\n",
      "<re.Match object; span=(0, 20), match='Calle 22A # 43e - 46'>\n",
      "None\n",
      "______________________________________________________________________________\n",
      "Validar correos electrónicos:\n",
      "<re.Match object; span=(0, 24), match='alejandro.jimenez@gov.co'>\n",
      "None\n",
      "______________________________________________________________________________\n",
      "Buscar correo específico:\n",
      "<re.Match object; span=(282, 300), match='ventas@empresa.net'>\n",
      "______________________________________________________________________________\n",
      "Correos válidos encontrados en el texto:\n",
      "['info@organizacion.com', 'soporte@organizacion.org', 'ventas@empresa.net', 'usuario@dominio.c', 'contacto@nuestroservicio.com', 'info@subdominio.org']\n"
     ]
    }
   ],
   "source": [
    "import re\n",
    "\n",
    "# Validar numeros\n",
    "print(\"Validar números:\")\n",
    "print(re.match(r'^\\d+$', '124456'))\n",
    "print(re.match(r'^\\d+$', '12a456'))\n",
    "print(\"______________________________________________________________________________\")\n",
    "\n",
    "# Validar letras\n",
    "print(\"Validar letras:\")\n",
    "print(re.match(r'^[a-zA-Z]+$', 'alejo'))\n",
    "print(re.match(r'^[a-zA-Z]+$', 'alejo123'))\n",
    "print(\"______________________________________________________________________________\")\n",
    "\n",
    "# Validar direccion ejemplos:\n",
    "# Calle 22A # 43e - 46\n",
    "# Carrera 10 # 43 - 46\n",
    "# Calle 22 # 43e - 46\n",
    "print(\"Validar direcciones:\")\n",
    "print(re.match(r'^(Calle|Carrera)\\s\\d+[A-Za-z]?\\s?#\\s?\\d+[A-Za-z]?\\s?-\\s?\\d+$', 'Calle 22A # 43e - 46'))\n",
    "print(re.match(r'^(Calle|Carrera)\\s\\d+[A-Za-z]?\\s?#\\s?\\d+[A-Za-z]?\\s?-\\s?\\d+$', 'Avenida 10 # 20 - 30')) \n",
    "print(\"______________________________________________________________________________\")\n",
    "\n",
    "# Validar correo electronico\n",
    "# alejandro.jimenez@gov.co\n",
    "# alejandrojimenez1234@gmail.com\n",
    "print(\"Validar correos electrónicos:\")\n",
    "print(re.match(r'^[\\w\\.-]+@[\\w\\.-]+\\.\\w{2,}$', 'alejandro.jimenez@gov.co'))\n",
    "print(re.match(r'^[\\w\\.-]+@[\\w\\.-]+\\.\\w{2,}$', 'alejandro@dominio'))  \n",
    "print(\"______________________________________________________________________________\")\n",
    "\n",
    "\n",
    "textoCorreos = \"\"\"\n",
    "En nuestra organización, contamos con varias direcciones de correo electrónico para que puedas ponerte en contacto con nosotros:\n",
    "\n",
    "Para consultas generales, escríbenos a info@organizacion.com.\n",
    "Si necesitas soporte, contacta a soporte@organizacion.org.\n",
    "Para temas de ventas, utiliza ventas@empresa.net.\n",
    "Sin embargo, es importante tener cuidado con las direcciones incorrectas. Algunos ejemplos de correos no válidos incluyen:\n",
    "\n",
    "@sinusuario.com (falta el nombre de usuario).\n",
    "usuario@dominio (falta el dominio de nivel superior).\n",
    "nombre@.com (hay un punto antes del dominio).\n",
    "usuario@dominio.c (el dominio de nivel superior es demasiado corto).\n",
    "nombre@dominio..com (hay un doble punto en el dominio).\n",
    "nombre@dominio@com (hay más de un símbolo @).\n",
    "invalido@dominio,com (el uso de una coma en lugar de un punto).\n",
    "Para asegurar que tu mensaje llegue, utiliza direcciones como contacto@nuestroservicio.com o info@subdominio.org.\n",
    "\"\"\"\n",
    "\n",
    "# usando la variable textoCorreos, encuentre el correo \"ventas@empresa.net\" usando regex y el metodo search\n",
    "print(\"Buscar correo específico:\")\n",
    "print(re.search(r'ventas@empresa\\.net', textoCorreos))\n",
    "print(\"______________________________________________________________________________\")\n",
    "\n",
    "# Encontrar las direcciones de correo validas del texto\n",
    "print(\"Correos válidos encontrados en el texto:\")\n",
    "print(re.findall(r'[\\w\\.-]+@[A-Za-z0-9-]+(?:\\.[A-Za-z0-9-]+)+', textoCorreos))"
   ]
  },
  {
   "cell_type": "markdown",
   "metadata": {
    "id": "GcEe6ZRHBuKI"
   },
   "source": [
    "FACULTAD DE MINAS<br>\n",
    "Sede Medellín"
   ]
  },
  {
   "cell_type": "markdown",
   "metadata": {
    "id": "wf9FvxRf46pB"
   },
   "source": [
    "SINTELWEB<br>\n",
    "Grupo de Investigación<br>\n",
    "Sistemas Inteligentes"
   ]
  }
 ],
 "metadata": {
  "colab": {
   "provenance": []
  },
  "kernelspec": {
   "display_name": "Python 3 (ipykernel)",
   "language": "python",
   "name": "python3"
  },
  "language_info": {
   "codemirror_mode": {
    "name": "ipython",
    "version": 3
   },
   "file_extension": ".py",
   "mimetype": "text/x-python",
   "name": "python",
   "nbconvert_exporter": "python",
   "pygments_lexer": "ipython3",
   "version": "3.10.18"
  }
 },
 "nbformat": 4,
 "nbformat_minor": 4
}

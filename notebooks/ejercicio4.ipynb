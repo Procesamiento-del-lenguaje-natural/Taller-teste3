{
 "cells": [
  {
   "cell_type": "markdown",
   "metadata": {
    "id": "sVuz0hhFdyqB"
   },
   "source": [
    "# [Taller] Introducción NLP"
   ]
  },
  {
   "cell_type": "markdown",
   "metadata": {
    "id": "CqfuRZMnU25k"
   },
   "source": [
    "Procesamiento de Lenguaje Natural - 3011176"
   ]
  },
  {
   "cell_type": "markdown",
   "metadata": {
    "id": "tw1jeTu9HIbj"
   },
   "source": [
    "**Objetivo**\n",
    "Realizar unos ejercicios para poner en practica la manipulacion de texto en python\n",
    "\n",
    "**Contenido**\n",
    "- Limpieza de texto\n",
    "- Normalización de texto\n",
    "- Pyspellchecker\n",
    "- Preprocesamiento\n",
    "- Librerias"
   ]
  },
  {
   "cell_type": "markdown",
   "metadata": {
    "id": "rjDd0bR6TOx_"
   },
   "source": [
    "##Consideraciones"
   ]
  },
  {
   "cell_type": "markdown",
   "metadata": {
    "id": "G4rpr0t7TQqz"
   },
   "source": [
    "Ejecute el cuaderno en orden\n",
    "NO modifique el primer bloque del ejercicio 1"
   ]
  },
  {
   "cell_type": "markdown",
   "metadata": {
    "id": "NLBo-kDEBcpj"
   },
   "source": [
    "## Ejercicio 4"
   ]
  },
  {
   "cell_type": "markdown",
   "metadata": {
    "id": "A9u69JwP7Vcz"
   },
   "source": [
    "Datos: Listado de tweets que vamos a analizar y con los que trabajaremos\n",
    "No debe modificar los valores del primer bloque\n"
   ]
  },
  {
   "cell_type": "code",
   "execution_count": null,
   "metadata": {
    "execution": {
     "iopub.execute_input": "2025-10-01T02:51:05.488896Z",
     "iopub.status.busy": "2025-10-01T02:51:05.488896Z",
     "iopub.status.idle": "2025-10-01T02:51:05.506199Z",
     "shell.execute_reply": "2025-10-01T02:51:05.505199Z",
     "shell.execute_reply.started": "2025-10-01T02:51:05.488896Z"
    },
    "id": "i_pibSJqdwEw"
   },
   "outputs": [
    {
     "name": "stdout",
     "output_type": "stream",
     "text": [
      "['ATENCIÓN 🚨 Reportan muerte de voluntario brasileño de vacuna de Oxford para\\ncovid-19. Esto es lo que se conoce hasta el momento ►\\n https://eltiempo.com/salud/muere-voluntario-de-la-vacuna-de-oxford-para-covid-19-en-brasil-544508?utm_medium=Social&utm_source=Twitter#Echobox=1603302840', '🚨 La vicepresidenta Marta Lucía Ramírez responde a críticas por no usar tapabocas en evento.\\nDías después de dicho encuentro, la vicepresidenta confirmó que había dado positivo en prueba de covid-19.\\nEsta fue su respuesta 👉 https://eltiempo.com/politica/gobierno/vicepresidente-marta-lucia-ramirez-responde-a-criticas-por-no-usar-tapabocas-en-evento-545337?utm_medium=Social&utm_source=Twitter#Echobox=1603722773', 'España decretó estado de alarma para mitigar segunda ola de covid.\\n⬇️ https://eltiempo.com/mundo/europa/coronavirus-espana-decreta-estado-de-alarma-por-segunda-ola-de-la-pandemia-545194?utm_medium=Social&utm_source=Twitter#Echobox=1603669555', 'Colombia superó el millón de casos de covid-19; ya hay 30.000 muertes. Más información aquí. ➡️', 'Abrir las ventanas y aislar los pupitres reduce propagación del covid-19.\\nEsto dice una investigación ►\\nhttps://eltiempo.com/vida/educacion/estudio-abrir-las-ventanas-reduce-un-40-la-presencia-de-aerosoles-en-las-aulas-544679?utm_medium=Social&utm_source=Twitter#Echobox=1603396380', 'Instituto Nacional de Salud estudia inmunidad del covid-19 en Medellín ►\\nhttps://www.eltiempo.com/colombia/medellin/covid-19-en-medellin-instituto-nacional-de-salud-estudia-inmunidad-del-covid-en-la-ciudad-544608?utm_medium=Social&utm_source=Twitter#Echobox=1603378778', 'China prueba vacuna contra covid-19 en 60.000 personas sin efectos adversos ►\\nhttps://bit.ly/3dGOCoj', 'Putin le ofrece gratis a la ONU la vacuna rusa contra el covid-19. 💉➡️\\nhttps://eltiempo.com/mundo/europa/vacuna-rusa-vladimir-putin-se-la-ofrece-gratis-a-la-onu-539268?utm_medium=Social&utm_source=Twitter#Echobox=1600825681', '🚨 ATENCIÓN 🚨 El Invima autorizó el reclutamiento de voluntarios para probar la vacuna de Johnson & Johnson en Colombia.\\nAcá le contamos dónde se van a llevar a cabo los ensayos en el país y qué debe saber si le interesa ser voluntario 👉 https://bit.ly/2GUpbmF', 'Putin le ofrece gratis a la ONU la vacuna rusa contra el covid-19. Esta fue su oferta.  💉\\nhttps://eltiempo.com/mundo/europa/vacuna-rusa-vladimir-putin-se-la-ofrece-gratis-a-la-onu-539268?utm_medium=Social&utm_source=Twitter#Echobox=1600828246']\n"
     ]
    }
   ],
   "source": [
    "\n",
    "tweets = []\n",
    "tweet1 =\"\"\"ATENCIÓN 🚨 Reportan muerte de voluntario brasileño de vacuna de Oxford para\n",
    "covid-19. Esto es lo que se conoce hasta el momento ►\n",
    " https://eltiempo.com/salud/muere-voluntario-de-la-vacuna-de-oxford-para-covid-19-en-brasil-544508?utm_medium=Social&utm_source=Twitter#Echobox=1603302840\"\"\"\n",
    "\n",
    "tweet2 = \"\"\"🚨 La vicepresidenta Marta Lucía Ramírez responde a críticas por no usar tapabocas en evento.\n",
    "Días después de dicho encuentro, la vicepresidenta confirmó que había dado positivo en prueba de covid-19.\n",
    "Esta fue su respuesta 👉 https://eltiempo.com/politica/gobierno/vicepresidente-marta-lucia-ramirez-responde-a-criticas-por-no-usar-tapabocas-en-evento-545337?utm_medium=Social&utm_source=Twitter#Echobox=1603722773\"\"\"\n",
    "\n",
    "tweet3 = \"\"\"España decretó estado de alarma para mitigar segunda ola de covid.\n",
    "⬇️ https://eltiempo.com/mundo/europa/coronavirus-espana-decreta-estado-de-alarma-por-segunda-ola-de-la-pandemia-545194?utm_medium=Social&utm_source=Twitter#Echobox=1603669555\"\"\"\n",
    "\n",
    "tweet4 = \"\"\"Colombia superó el millón de casos de covid-19; ya hay 30.000 muertes. Más información aquí. ➡️\"\"\"\n",
    "\n",
    "tweet5 = \"\"\"Abrir las ventanas y aislar los pupitres reduce propagación del covid-19.\n",
    "Esto dice una investigación ►\n",
    "https://eltiempo.com/vida/educacion/estudio-abrir-las-ventanas-reduce-un-40-la-presencia-de-aerosoles-en-las-aulas-544679?utm_medium=Social&utm_source=Twitter#Echobox=1603396380\"\"\"\n",
    "\n",
    "tweet6 = \"\"\"Instituto Nacional de Salud estudia inmunidad del covid-19 en Medellín ►\n",
    "https://www.eltiempo.com/colombia/medellin/covid-19-en-medellin-instituto-nacional-de-salud-estudia-inmunidad-del-covid-en-la-ciudad-544608?utm_medium=Social&utm_source=Twitter#Echobox=1603378778\"\"\"\n",
    "\n",
    "tweet7 = \"\"\"China prueba vacuna contra covid-19 en 60.000 personas sin efectos adversos ►\n",
    "https://bit.ly/3dGOCoj\"\"\"\n",
    "\n",
    "tweet8 = \"\"\"Putin le ofrece gratis a la ONU la vacuna rusa contra el covid-19. 💉➡️\n",
    "https://eltiempo.com/mundo/europa/vacuna-rusa-vladimir-putin-se-la-ofrece-gratis-a-la-onu-539268?utm_medium=Social&utm_source=Twitter#Echobox=1600825681\"\"\"\n",
    "\n",
    "tweet9 = \"\"\"🚨 ATENCIÓN 🚨 El Invima autorizó el reclutamiento de voluntarios para probar la vacuna de Johnson & Johnson en Colombia.\n",
    "Acá le contamos dónde se van a llevar a cabo los ensayos en el país y qué debe saber si le interesa ser voluntario 👉 https://bit.ly/2GUpbmF\"\"\"\n",
    "\n",
    "tweet10 = \"\"\"Putin le ofrece gratis a la ONU la vacuna rusa contra el covid-19. Esta fue su oferta.  💉\n",
    "https://eltiempo.com/mundo/europa/vacuna-rusa-vladimir-putin-se-la-ofrece-gratis-a-la-onu-539268?utm_medium=Social&utm_source=Twitter#Echobox=1600828246\"\"\"\n",
    "\n",
    "tweets.append(tweet1)\n",
    "tweets.append(tweet2)\n",
    "tweets.append(tweet3)\n",
    "tweets.append(tweet4)\n",
    "tweets.append(tweet5)\n",
    "tweets.append(tweet6)\n",
    "tweets.append(tweet7)\n",
    "tweets.append(tweet8)\n",
    "tweets.append(tweet9)\n",
    "tweets.append(tweet10)\n",
    "\n",
    "print(tweets)"
   ]
  },
  {
   "cell_type": "markdown",
   "metadata": {
    "id": "_OdIQCKG7ZT1"
   },
   "source": [
    "Como primer paso vamos a eliminar caracteres poco utiles usados en la escritura actual como lo son emojis, flechas, url que no son utiles en nuestro contexto de trabajo.\n",
    "Para lograr esto usaremos los metodos replace, lower y el lenguaje regex\n",
    "\n",
    "\n",
    "\n"
   ]
  },
  {
   "cell_type": "code",
   "execution_count": 5,
   "metadata": {
    "execution": {
     "iopub.execute_input": "2025-10-01T02:58:26.316153Z",
     "iopub.status.busy": "2025-10-01T02:58:26.316153Z",
     "iopub.status.idle": "2025-10-01T02:58:26.328037Z",
     "shell.execute_reply": "2025-10-01T02:58:26.328037Z",
     "shell.execute_reply.started": "2025-10-01T02:58:26.316153Z"
    },
    "id": "ggE2ScrOE6pc"
   },
   "outputs": [
    {
     "name": "stdout",
     "output_type": "stream",
     "text": [
      "Sin saltos y urls: ATENCIÓN 🚨 Reportan muerte de voluntario brasileño de vacuna de Oxford paracovid-19. Esto es lo que se conoce hasta el momento ► \n",
      "Minusculas: atención 🚨 reportan muerte de voluntario brasileño de vacuna de oxford paracovid-19. esto es lo que se conoce hasta el momento ► \n",
      "Sin emojis: atención  reportan muerte de voluntario brasileño de vacuna de oxford paracovid-19. esto es lo que se conoce hasta el momento  \n"
     ]
    }
   ],
   "source": [
    "# Importamos la libreria de regex\n",
    "import re\n",
    "\n",
    "#Patrones de todos los emojis, para ser removidos\n",
    "emoji_pattern = re.compile(\"[\"\n",
    "        u\"\\U0001F600-\\U0001F64F\"  # emoticons\n",
    "        u\"\\U0001F300-\\U0001F5FF\"  # symbols & pictographs\n",
    "        u\"\\U0001F680-\\U0001F6FF\"  # transport & map symbols\n",
    "        u\"\\U0001F1E0-\\U0001F1FF\"  # flags (iOS)\n",
    "        u\"\\U0001F1F2-\\U0001F1F4\"  # Macau flag\n",
    "        u\"\\U0001F1E6-\\U0001F1FF\"  # flags\n",
    "        u\"\\U0001F600-\\U0001F64F\"\n",
    "        u\"\\U00002702-\\U000027B0\"\n",
    "        u\"\\U000024C2-\\U0001F251\"\n",
    "        u\"\\U0001f926-\\U0001f937\"\n",
    "        u\"\\U0001F1F2\"\n",
    "        u\"\\U0001F1F4\"\n",
    "        u\"\\U0001F620\"\n",
    "        u\"\\u200d\"\n",
    "        u\"\\u2640-\\u2642\"\n",
    "        \"]+\", flags=re.UNICODE)\n",
    "\n",
    "# Ejemplo\n",
    "\n",
    "# Primero quitemos los saltos de linea (\\n) y las url que se encuentra en el tweet\n",
    "\n",
    "# Quitamos salto de linea\n",
    "tweets[0] = re.sub('\\n', '', tweets[0])\n",
    "\n",
    "# Quitamos las url\n",
    "tweets[0] = re.sub(r'https?://\\S+', '', tweets[0])\n",
    "\n",
    "print(\"Sin saltos y urls:\",tweets[0])\n",
    "\n",
    "# Primero, pongamos el tweet en minuscula y remplacemoslo en la lista original\n",
    "tweets[0] = tweets[0].lower()\n",
    "\n",
    "print(\"Minusculas:\",tweets[0])\n",
    "\n",
    "# Segundo, vamos a quitar algunos emojis y caracteres especiales que se encuentran dentro del tweet\n",
    "tweets[0] = emoji_pattern.sub(r'', tweets[0])\n",
    "print(\"Sin emojis:\",tweets[0])"
   ]
  },
  {
   "cell_type": "markdown",
   "metadata": {
    "id": "mOOyE0HgVocQ"
   },
   "source": [
    "**Actividad: Realice los mismos pasos anteriores para los demas tweets de la lista**"
   ]
  },
  {
   "cell_type": "code",
   "execution_count": null,
   "metadata": {
    "execution": {
     "iopub.execute_input": "2025-10-01T03:00:02.206450Z",
     "iopub.status.busy": "2025-10-01T03:00:02.206450Z",
     "iopub.status.idle": "2025-10-01T03:00:02.226026Z",
     "shell.execute_reply": "2025-10-01T03:00:02.225022Z",
     "shell.execute_reply.started": "2025-10-01T03:00:02.206450Z"
    },
    "id": "wf_1q7LSVxca"
   },
   "outputs": [
    {
     "name": "stdout",
     "output_type": "stream",
     "text": [
      "atención  reportan muerte de voluntario brasileño de vacuna de oxford paracovid-19. esto es lo que se conoce hasta el momento  \n",
      " la vicepresidenta marta lucía ramírez responde a críticas por no usar tapabocas en evento.días después de dicho encuentro, la vicepresidenta confirmó que había dado positivo en prueba de covid-19.esta fue su respuesta  \n",
      "españa decretó estado de alarma para mitigar segunda ola de covid. \n",
      "colombia superó el millón de casos de covid-19; ya hay 30.000 muertes. más información aquí. \n",
      "abrir las ventanas y aislar los pupitres reduce propagación del covid-19.esto dice una investigación \n",
      "instituto nacional de salud estudia inmunidad del covid-19 en medellín \n",
      "china prueba vacuna contra covid-19 en 60.000 personas sin efectos adversos \n",
      "putin le ofrece gratis a la onu la vacuna rusa contra el covid-19. \n",
      " atención  el invima autorizó el reclutamiento de voluntarios para probar la vacuna de johnson & johnson en colombia.acá le contamos dónde se van a llevar a cabo los ensayos en el país y qué debe saber si le interesa ser voluntario  \n",
      "putin le ofrece gratis a la onu la vacuna rusa contra el covid-19. esta fue su oferta.  \n"
     ]
    }
   ],
   "source": [
    "tweets_procesados = []\n",
    "for tweet in tweets:\n",
    "  # Quitamos salto de linea\n",
    "  tweet = re.sub('\\n', '', tweet)\n",
    "  # Quitamos las url\n",
    "  tweet = re.sub(r'https?://\\S+', '', tweet)\n",
    "  # Convertimos a minusculas\n",
    "  tweet = tweet.lower()\n",
    "  # Quitamos emojis\n",
    "  tweet = emoji_pattern.sub(r'', tweet)\n",
    "  tweets_procesados.append(tweet)\n",
    "\n",
    "# You can print the cleaned tweets to verify\n",
    "for tweet in tweets_procesados:\n",
    "  print(tweet)"
   ]
  },
  {
   "cell_type": "markdown",
   "metadata": {
    "id": "GcEe6ZRHBuKI"
   },
   "source": [
    "FACULTAD DE MINAS<br>\n",
    "Sede Medellín"
   ]
  },
  {
   "cell_type": "markdown",
   "metadata": {
    "id": "wf9FvxRf46pB"
   },
   "source": [
    "SINTELWEB<br>\n",
    "Grupo de Investigación<br>\n",
    "Sistemas Inteligentes"
   ]
  }
 ],
 "metadata": {
  "colab": {
   "provenance": []
  },
  "kernelspec": {
   "display_name": "Python 3 (ipykernel)",
   "language": "python",
   "name": "python3"
  },
  "language_info": {
   "codemirror_mode": {
    "name": "ipython",
    "version": 3
   },
   "file_extension": ".py",
   "mimetype": "text/x-python",
   "name": "python",
   "nbconvert_exporter": "python",
   "pygments_lexer": "ipython3",
   "version": "3.10.18"
  }
 },
 "nbformat": 4,
 "nbformat_minor": 4
}

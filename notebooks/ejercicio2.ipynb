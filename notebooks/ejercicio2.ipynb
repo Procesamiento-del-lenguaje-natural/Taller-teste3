{
 "cells": [
  {
   "cell_type": "markdown",
   "metadata": {
    "id": "sVuz0hhFdyqB"
   },
   "source": [
    "# [Taller] Introducción NLP  "
   ]
  },
  {
   "cell_type": "markdown",
   "metadata": {
    "id": "CqfuRZMnU25k"
   },
   "source": [
    "Procesamiento de Lenguaje Natural - 3011176"
   ]
  },
  {
   "cell_type": "markdown",
   "metadata": {
    "id": "tw1jeTu9HIbj"
   },
   "source": [
    "**Objetivo**\n",
    "Realizar unos ejercicios para poner en practica la manipulacion de texto en python\n",
    "\n",
    "**Contenido**\n",
    "- Limpieza de texto\n",
    "- Normalización de texto\n",
    "- Pyspellchecker\n",
    "- Preprocesamiento\n",
    "- Librerias"
   ]
  },
  {
   "cell_type": "markdown",
   "metadata": {
    "id": "rjDd0bR6TOx_"
   },
   "source": [
    "##Consideraciones"
   ]
  },
  {
   "cell_type": "markdown",
   "metadata": {
    "id": "G4rpr0t7TQqz"
   },
   "source": [
    "Ejecute el cuaderno en orden\n",
    "NO modifique el primer bloque del ejercicio 1"
   ]
  },
  {
   "cell_type": "markdown",
   "metadata": {},
   "source": [
    "_______________________________________________________________________________________________________________________________________________________"
   ]
  },
  {
   "cell_type": "markdown",
   "metadata": {
    "id": "YevV_7Hg-bXj"
   },
   "source": [
    "## Ejercicio 2 "
   ]
  },
  {
   "cell_type": "markdown",
   "metadata": {
    "id": "02ysf5-B-goN"
   },
   "source": [
    "**Máquina Enigma**,\n",
    "fue un dispositivo de cifrado utilizado por los alemanes durante la Segunda Guerra Mundial para proteger comunicaciones. Su funcionamiento se basaba en una serie de rotores y un panel de teclado. Cada vez que se presionaba una tecla, un rotor giraba, cambiando la conexión eléctrica y produciendo una letra codificada.\n",
    "\n",
    "Los rotores podían configurarse de diferentes maneras, lo que generaba combinaciones casi infinitas de cifrado. Además, la máquina incluía un reflejo que devolvía la señal a través de los rotores, lo que hacía que el mismo mensaje cifrado pudiera ser descifrado si se conocía la configuración exacta de la máquina. La complejidad de Enigma fue un desafío significativo para los criptoanalistas aliados hasta que se desarrollaron métodos y herramientas, como las utilizadas por Alan Turing y su equipo en Bletchley Park, para romper su código."
   ]
  },
  {
   "cell_type": "markdown",
   "metadata": {
    "id": "nVb_KOmMw1uW"
   },
   "source": [
    "Para el ejercicio desarrollaremos una maquina engima con la ayuda de funciones de los strings en python, en este caso, declarando dos abecedarios mas al que usamos, para esto vamos a usar los metodos maketrans() y translate() para codificar y decodificar nuestra frase\n",
    "[texto del vínculo](https://www.w3schools.com/python/ref_string_translate.asp)"
   ]
  },
  {
   "cell_type": "markdown",
   "metadata": {},
   "source": [
    "**Observaciones**\n",
    "- Recuerde no modificar el nombre de las variables de la primera casilla\n",
    "- Recuerde no colocar caracteres especiales y/o numeraciones dentro de los abecedarios (limitese a alterar la configuración espacial de los caracteres del abecedario 1).\n",
    "- Recuerde tener homogeneidad en los caracteres (mayusculas y minusculas)"
   ]
  },
  {
   "cell_type": "code",
   "execution_count": null,
   "metadata": {
    "execution": {
     "iopub.execute_input": "2025-09-26T23:08:27.969985Z",
     "iopub.status.busy": "2025-09-26T23:08:27.969985Z",
     "iopub.status.idle": "2025-09-26T23:08:27.973985Z",
     "shell.execute_reply": "2025-09-26T23:08:27.973985Z",
     "shell.execute_reply.started": "2025-09-26T23:08:27.969985Z"
    },
    "id": "f_ycMFGL-dZP"
   },
   "outputs": [],
   "source": [
    "abecedario1 = \"ABCDEFGHIJKLMNOPQRSTUVWXYZ\"\n",
    "abecedario2 = \"DEFGHIJKLMNOPQRSTUVWXYZABC\" # Shifted by 3\n",
    "abecedario3 = \"XYZABCDEFGHIJKLMNOPQRSTUVW\" # Shifted by -3\n",
    "\n",
    "\n",
    "encode_table = str.maketranst(abecedario1, abecedario2)\n",
    "encode_table_2 = str.maketrans(abecedario2, abecedario3)\n",
    "\n",
    "decode_table = str.maketrans(abecedario3, abecedario2)\n",
    "decode_table_2 = str.maketrans(abecedario2, abecedario1)"
   ]
  },
  {
   "cell_type": "code",
   "execution_count": 2,
   "metadata": {
    "execution": {
     "iopub.execute_input": "2025-09-26T23:08:27.974984Z",
     "iopub.status.busy": "2025-09-26T23:08:27.974984Z",
     "iopub.status.idle": "2025-09-26T23:08:27.989499Z",
     "shell.execute_reply": "2025-09-26T23:08:27.989499Z",
     "shell.execute_reply.started": "2025-09-26T23:08:27.974984Z"
    }
   },
   "outputs": [],
   "source": [
    "# Mensaje a traducir\n",
    "message = \"PRUEBA DE CIFRADO CESAR\""
   ]
  },
  {
   "cell_type": "code",
   "execution_count": 3,
   "metadata": {
    "execution": {
     "iopub.execute_input": "2025-09-26T23:08:27.990490Z",
     "iopub.status.busy": "2025-09-26T23:08:27.990490Z",
     "iopub.status.idle": "2025-09-26T23:08:28.006500Z",
     "shell.execute_reply": "2025-09-26T23:08:28.005512Z",
     "shell.execute_reply.started": "2025-09-26T23:08:27.990490Z"
    }
   },
   "outputs": [
    {
     "name": "stdout",
     "output_type": "stream",
     "text": [
      "Mensaje Original: PRUEBA DE CIFRADO CESAR\n",
      "Mensaje codificado 2 veces (abecedario3): MORBYX AB ZFCOXAL ZBPXO\n",
      "Mensaje decodificado (abecedario1): PRUEBA DE CIFRADO CESAR\n"
     ]
    }
   ],
   "source": [
    "# Encode the message using abecedario2\n",
    "encoded_message = message.translate(encode_table)\n",
    "encoded_message_2 = encoded_message.translate(encode_table_2)\n",
    "print(f\"Mensaje Original: {message}\")\n",
    "print(f\"Mensaje codificado 2 veces (abecedario3): {encoded_message_2}\")\n",
    "\n",
    "# Decode the message using abecedario2\n",
    "decoded_message = encoded_message_2.translate(decode_table)\n",
    "decoded_message_2 = decoded_message.translate(decode_table_2)\n",
    "print(f\"Mensaje decodificado (abecedario1): {decoded_message_2}\")"
   ]
  },
  {
   "cell_type": "markdown",
   "metadata": {},
   "source": [
    "_______________________________________________________________________________________________________________________________________________________"
   ]
  },
  {
   "cell_type": "markdown",
   "metadata": {
    "id": "GcEe6ZRHBuKI"
   },
   "source": [
    "FACULTAD DE MINAS<br>\n",
    "Sede Medellín"
   ]
  },
  {
   "cell_type": "markdown",
   "metadata": {
    "id": "wf9FvxRf46pB"
   },
   "source": [
    "SINTELWEB<br>\n",
    "Grupo de Investigación<br>\n",
    "Sistemas Inteligentes"
   ]
  }
 ],
 "metadata": {
  "colab": {
   "provenance": []
  },
  "kernelspec": {
   "display_name": "chatbotestructuras_env",
   "language": "python",
   "name": "python3"
  },
  "language_info": {
   "codemirror_mode": {
    "name": "ipython",
    "version": 3
   },
   "file_extension": ".py",
   "mimetype": "text/x-python",
   "name": "python",
   "nbconvert_exporter": "python",
   "pygments_lexer": "ipython3",
   "version": "3.10.18"
  }
 },
 "nbformat": 4,
 "nbformat_minor": 4
}

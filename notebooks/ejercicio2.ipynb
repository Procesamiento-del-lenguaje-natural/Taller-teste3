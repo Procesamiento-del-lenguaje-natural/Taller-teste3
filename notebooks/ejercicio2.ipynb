{
 "cells": [
  {
   "cell_type": "markdown",
   "metadata": {
    "id": "sVuz0hhFdyqB"
   },
   "source": [
    "# [Taller] Introducción NLP"
   ]
  },
  {
   "cell_type": "markdown",
   "metadata": {
    "id": "CqfuRZMnU25k"
   },
   "source": [
    "Procesamiento de Lenguaje Natural - 3011176"
   ]
  },
  {
   "cell_type": "markdown",
   "metadata": {
    "id": "tw1jeTu9HIbj"
   },
   "source": [
    "**Objetivo**\n",
    "Realizar unos ejercicios para poner en practica la manipulacion de texto en python\n",
    "\n",
    "**Contenido**\n",
    "- Limpieza de texto\n",
    "- Normalización de texto\n",
    "- Pyspellchecker\n",
    "- Preprocesamiento\n",
    "- Librerias"
   ]
  },
  {
   "cell_type": "markdown",
   "metadata": {
    "id": "rjDd0bR6TOx_"
   },
   "source": [
    "##Consideraciones"
   ]
  },
  {
   "cell_type": "markdown",
   "metadata": {
    "id": "G4rpr0t7TQqz"
   },
   "source": [
    "Ejecute el cuaderno en orden\n",
    "NO modifique el primer bloque del ejercicio 1"
   ]
  },
  {
   "cell_type": "markdown",
   "metadata": {},
   "source": [
    "_______________________________________________________________________________________________________________________________________________________"
   ]
  },
  {
   "cell_type": "markdown",
   "metadata": {
    "id": "YevV_7Hg-bXj"
   },
   "source": [
    "## Ejercicio 2 "
   ]
  },
  {
   "cell_type": "markdown",
   "metadata": {
    "id": "02ysf5-B-goN"
   },
   "source": [
    "**Máquina Enigma**,\n",
    "fue un dispositivo de cifrado utilizado por los alemanes durante la Segunda Guerra Mundial para proteger comunicaciones. Su funcionamiento se basaba en una serie de rotores y un panel de teclado. Cada vez que se presionaba una tecla, un rotor giraba, cambiando la conexión eléctrica y produciendo una letra codificada.\n",
    "\n",
    "Los rotores podían configurarse de diferentes maneras, lo que generaba combinaciones casi infinitas de cifrado. Además, la máquina incluía un reflejo que devolvía la señal a través de los rotores, lo que hacía que el mismo mensaje cifrado pudiera ser descifrado si se conocía la configuración exacta de la máquina. La complejidad de Enigma fue un desafío significativo para los criptoanalistas aliados hasta que se desarrollaron métodos y herramientas, como las utilizadas por Alan Turing y su equipo en Bletchley Park, para romper su código."
   ]
  },
  {
   "cell_type": "markdown",
   "metadata": {
    "id": "nVb_KOmMw1uW"
   },
   "source": [
    "Para el ejercicio desarrollaremos una maquina engima con la ayuda de funciones de los strings en python, en este caso, declarando dos abecedarios mas al que usamos, para esto vamos a usar los metodos maketrans() y translate() para codificar y decodificar nuestra frase\n",
    "[texto del vínculo](https://www.w3schools.com/python/ref_string_translate.asp)"
   ]
  },
  {
   "cell_type": "markdown",
   "metadata": {},
   "source": [
    "**Observaciones**\n",
    "- Recuerde no modificar el nombre de las variables de la primera casilla\n",
    "- Recuerde no colocar caracteres especiales y/o numeraciones dentro de los abecedarios (limitese a alterar la configuración espacial de los caracteres del abecedario 1).\n",
    "- Recuerde tener homogeneidad en los caracteres (mayusculas y minusculas)"
   ]
  },
  {
   "cell_type": "code",
   "execution_count": 11,
   "metadata": {
    "execution": {
     "iopub.execute_input": "2025-09-26T23:08:27.969985Z",
     "iopub.status.busy": "2025-09-26T23:08:27.969985Z",
     "iopub.status.idle": "2025-09-26T23:08:27.973985Z",
     "shell.execute_reply": "2025-09-26T23:08:27.973985Z",
     "shell.execute_reply.started": "2025-09-26T23:08:27.969985Z"
    },
    "id": "f_ycMFGL-dZP"
   },
   "outputs": [],
   "source": [
    "abecedario1 = \"ABCDEFGHIJKLMNOPQRSTUVWXYZ\"\n",
    "abecedario2 = \"DEFGHIJKLMNOPQRSTUVWXYZABC\" # Shifted by 3\n",
    "abecedario3 = \"XYZABCDEFGHIJKLMNOPQRSTUVW\" # Shifted by -3\n",
    "\n",
    "\n",
    "encode_table = str.maketrans(abecedario1, abecedario2)\n",
    "encode_table_2 = str.maketrans(abecedario2, abecedario3)\n",
    "\n",
    "decode_table = str.maketrans(abecedario3, abecedario2)\n",
    "decode_table_2 = str.maketrans(abecedario2, abecedario1)"
   ]
  },
  {
   "cell_type": "code",
   "execution_count": 12,
   "metadata": {
    "execution": {
     "iopub.execute_input": "2025-09-26T23:08:27.974984Z",
     "iopub.status.busy": "2025-09-26T23:08:27.974984Z",
     "iopub.status.idle": "2025-09-26T23:08:27.989499Z",
     "shell.execute_reply": "2025-09-26T23:08:27.989499Z",
     "shell.execute_reply.started": "2025-09-26T23:08:27.974984Z"
    }
   },
   "outputs": [],
   "source": [
    "# Mensaje a traducir\n",
    "message = \"JIMENA BAÑESE\""
   ]
  },
  {
   "cell_type": "code",
   "execution_count": 13,
   "metadata": {
    "execution": {
     "iopub.execute_input": "2025-09-26T23:08:27.990490Z",
     "iopub.status.busy": "2025-09-26T23:08:27.990490Z",
     "iopub.status.idle": "2025-09-26T23:08:28.006500Z",
     "shell.execute_reply": "2025-09-26T23:08:28.005512Z",
     "shell.execute_reply.started": "2025-09-26T23:08:27.990490Z"
    }
   },
   "outputs": [
    {
     "name": "stdout",
     "output_type": "stream",
     "text": [
      "Mensaje Original: JIMENA BAÑESE\n",
      "Mensaje codificado 2 veces (abecedario3): GFJBKX YXÑBPB\n",
      "Mensaje decodificado (abecedario1): JIMENA BAÑESE\n"
     ]
    }
   ],
   "source": [
    "# Encode the message using abecedario2\n",
    "encoded_message = message.translate(encode_table)\n",
    "encoded_message_2 = encoded_message.translate(encode_table_2)\n",
    "print(f\"Mensaje Original: {message}\")\n",
    "print(f\"Mensaje codificado 2 veces (abecedario3): {encoded_message_2}\")\n",
    "\n",
    "# Decode the message using abecedario2\n",
    "decoded_message = encoded_message_2.translate(decode_table)\n",
    "decoded_message_2 = decoded_message.translate(decode_table_2)\n",
    "print(f\"Mensaje decodificado (abecedario1): {decoded_message_2}\")"
   ]
  },
  {
   "cell_type": "markdown",
   "metadata": {},
   "source": [
    "_______________________________________________________________________________________________________________________________________________________"
   ]
  },
  {
   "cell_type": "markdown",
   "metadata": {},
   "source": [
    "**TEST 1: Verificación de funciones (str.maketrans y .translate)**"
   ]
  },
  {
   "cell_type": "code",
   "execution_count": null,
   "metadata": {
    "execution": {
     "iopub.execute_input": "2025-09-26T23:08:28.008502Z",
     "iopub.status.busy": "2025-09-26T23:08:28.007505Z",
     "iopub.status.idle": "2025-09-26T23:08:28.022422Z",
     "shell.execute_reply": "2025-09-26T23:08:28.021423Z",
     "shell.execute_reply.started": "2025-09-26T23:08:28.008502Z"
    }
   },
   "outputs": [
    {
     "name": "stdout",
     "output_type": "stream",
     "text": [
      "✅ Se implementó correctamente 'str.maketrans()'\n",
      "✅ Se detectó un 'print()' que imprime el resultado de una traducción (.translate).\n"
     ]
    }
   ],
   "source": [
    "# Importación de librerias\n",
    "\n",
    "from IPython import get_ipython\n",
    "import re\n",
    "\n",
    "def validar_maketrans_y_translate():\n",
    "    shell = get_ipython()\n",
    "    history = shell.history_manager.get_range()\n",
    "\n",
    "# Verificar uso correcto de str.maketrans\n",
    "    maketrans_valido = False\n",
    "    for _, _, code in history:\n",
    "        coincidencias = re.findall(r\"str\\.maketrans\\(([^)]*)\\)\", code)\n",
    "        for args in coincidencias:\n",
    "            partes = [a.strip() for a in args.split(\",\") if a.strip()]\n",
    "            if len(partes) == 2:\n",
    "                maketrans_valido = True\n",
    "                break\n",
    "        if maketrans_valido:\n",
    "            break\n",
    "\n",
    "    if maketrans_valido:\n",
    "        print(\"✅ Se implementó correctamente 'str.maketrans()'\")\n",
    "    else:\n",
    "        print(\"❌ No se encontró una implementación válida de 'str.maketrans()' con dos argumentos.\")\n",
    "\n",
    "# Verificar que se imprime una traducción con .translate\n",
    "    print_con_translate = any(\n",
    "        \"print(\" in code and \".translate(\" in code\n",
    "        for _, _, code in history\n",
    "    )\n",
    "\n",
    "    if print_con_translate:\n",
    "        print(\"✅ Se detectó un 'print()' que imprime el resultado de una traducción (.translate).\")\n",
    "    else:\n",
    "        print(\"❌ No se encontró ningún 'print()' que imprima una traducción con .translate().\")\n",
    "\n",
    "# Resultado global\n",
    "    return maketrans_valido and print_con_translate\n",
    "\n",
    "# Ejecución\n",
    "pruebas_ok = True\n",
    "if not validar_maketrans_y_translate():\n",
    "    pruebas_ok = False"
   ]
  },
  {
   "cell_type": "markdown",
   "metadata": {},
   "source": [
    "_______________________________________________________________________________________________________________________________________________________"
   ]
  },
  {
   "cell_type": "markdown",
   "metadata": {},
   "source": [
    "**TEST 1: Verificación de homogeneidad**"
   ]
  },
  {
   "cell_type": "code",
   "execution_count": null,
   "metadata": {
    "execution": {
     "iopub.execute_input": "2025-09-26T23:08:28.025422Z",
     "iopub.status.busy": "2025-09-26T23:08:28.025422Z",
     "iopub.status.idle": "2025-09-26T23:08:28.053411Z",
     "shell.execute_reply": "2025-09-26T23:08:28.052405Z",
     "shell.execute_reply.started": "2025-09-26T23:08:28.025422Z"
    }
   },
   "outputs": [
    {
     "name": "stdout",
     "output_type": "stream",
     "text": [
      "✅ Se detectó un 'print()' que imprime el resultado de una traducción (.translate).\n",
      "✅ Traducción exitosa detectada entre '_i' y '_i14'\n",
      "   Ejemplo del texto restaurado: '# Importación de librerias\n",
      "\n",
      "from IPython'\n"
     ]
    }
   ],
   "source": [
    "# Importación de librerias\n",
    "from IPython import get_ipython\n",
    "\n",
    "\n",
    "def validar_traduccion_correcta():\n",
    "    shell = get_ipython()\n",
    "    history = shell.history_manager.get_range()\n",
    "\n",
    "    # Verificar que hay un print con translate ---\n",
    "    print_con_translate = any(\n",
    "        \"print(\" in code and \".translate(\" in code\n",
    "        for _, _, code in history\n",
    "\n",
    "    )\n",
    "\n",
    "    if print_con_translate:\n",
    "        print(\"✅ Se detectó un 'print()' que imprime el resultado de una traducción (.translate).\")\n",
    "    else:\n",
    "        print(\"❌ No se encontró ningún 'print()' que imprima una traducción con .translate().\")\n",
    "        return False\n",
    "\n",
    "    # Verificar que la decodificación fue correcta ---\n",
    "    namespace = globals()\n",
    "\n",
    "    # Filtrar solo variables string relevantes por nombre\n",
    "    variables_texto = {k: v for k, v in namespace.items() if isinstance(v, str) and (\"traducido\" in k or \"restaurado\" in k or \"decode\" in k or \"mensaje\" in k)}\n",
    "\n",
    "    if not variables_texto:\n",
    "        print(\"⚠️ No se encontraron variables tipo string relevantes en el entorno. Usa nombres descriptivos como 'mensaje_traducido'.\")\n",
    "        return False\n",
    "\n",
    "    for nombre1, valor1 in variables_texto.items():\n",
    "        for nombre2, valor2 in variables_texto.items():\n",
    "            if nombre1 == nombre2:\n",
    "                continue\n",
    "\n",
    "            if not isinstance(valor1, str) or not isinstance(valor2, str):\n",
    "                print(f\"⚠️ La variable '{nombre1}' o '{nombre2}' no es de tipo string.\")\n",
    "                continue\n",
    "\n",
    "            if valor1.strip() == valor2.strip() and len(valor1) > 0:\n",
    "                print(f\"✅ Traducción exitosa detectada entre '{nombre1}' y '{nombre2}'\")\n",
    "                print(f\"   Ejemplo del texto restaurado: '{valor1[:40]}'\")\n",
    "                return True\n",
    "\n",
    "    print(\"❌ No se encontró coincidencia entre el mensaje original y el decodificado relevante.\")\n",
    "\n",
    "    return False\n",
    "\n",
    "# Uso\n",
    "\n",
    "if not validar_traduccion_correcta():\n",
    "\n",
    "    pruebas_ok = False"
   ]
  },
  {
   "cell_type": "markdown",
   "metadata": {
    "id": "GcEe6ZRHBuKI"
   },
   "source": [
    "FACULTAD DE MINAS<br>\n",
    "Sede Medellín"
   ]
  },
  {
   "cell_type": "markdown",
   "metadata": {
    "id": "wf9FvxRf46pB"
   },
   "source": [
    "SINTELWEB<br>\n",
    "Grupo de Investigación<br>\n",
    "Sistemas Inteligentes"
   ]
  }
 ],
 "metadata": {
  "colab": {
   "provenance": []
  },
  "kernelspec": {
   "display_name": "Python 3 (ipykernel)",
   "language": "python",
   "name": "python3"
  },
  "language_info": {
   "codemirror_mode": {
    "name": "ipython",
    "version": 3
   },
   "file_extension": ".py",
   "mimetype": "text/x-python",
   "name": "python",
   "nbconvert_exporter": "python",
   "pygments_lexer": "ipython3",
   "version": "3.10.18"
  }
 },
 "nbformat": 4,
 "nbformat_minor": 4
}

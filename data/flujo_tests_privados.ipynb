{
 "cells": [
  {
   "cell_type": "markdown",
   "id": "cb78a8a3",
   "metadata": {},
   "source": [
    "# 🔐 Flujo de Trabajo: Tests Privados con SSH Keys\n",
    "\n",
    "Este notebook contiene el flujo completo para configurar tests privados usando claves SSH y repositorios privados en GitHub Actions."
   ]
  },
  {
   "cell_type": "markdown",
   "id": "a5f553df",
   "metadata": {},
   "source": [
    "## 📋 **Paso 1: Generar claves SSH (PowerShell)**\n",
    "\n",
    "Ejecuta estos comandos en PowerShell (no en este notebook):"
   ]
  },
  {
   "cell_type": "code",
   "execution_count": null,
   "id": "e09ae0ed",
   "metadata": {
    "vscode": {
     "languageId": "powershell"
    }
   },
   "outputs": [],
   "source": [
    "# Generar par de claves SSH\n",
    "ssh-keygen -t ed25519 -C \"github-actions\"\n",
    "\n",
    "# Presiona Enter en cada pregunta:\n",
    "# - Ruta por defecto (Enter)\n",
    "# - Sin contraseña (Enter)\n",
    "# - Confirmar sin contraseña (Enter)"
   ]
  },
  {
   "cell_type": "code",
   "execution_count": null,
   "id": "109f1318",
   "metadata": {
    "vscode": {
     "languageId": "powershell"
    }
   },
   "outputs": [],
   "source": [
    "# Ver la clave pública (para GitHub)\n",
    "Get-Content $env:USERPROFILE\\.ssh\\id_ed25519.pub\n",
    "\n",
    "# Ver la clave privada (para secret)\n",
    "Get-Content $env:USERPROFILE\\.ssh\\id_ed25519"
   ]
  },
  {
   "cell_type": "markdown",
   "id": "98f3fe18",
   "metadata": {},
   "source": [
    "## 🔑 **Paso 2: Configurar claves en GitHub**"
   ]
  },
  {
   "cell_type": "markdown",
   "id": "07a67850",
   "metadata": {},
   "source": [
    "### **2.1 Agregar clave pública a tu cuenta:**\n",
    "\n",
    "1. Ve a GitHub.com → **Settings** → **SSH and GPG keys** → **New SSH key**\n",
    "2. **Title:** \"Taller Actions Key\" (o cualquier nombre)\n",
    "3. **Key type:** Authentication Key\n",
    "4. **Key:** Pega el contenido de `id_ed25519.pub`\n",
    "5. **Add SSH key**"
   ]
  },
  {
   "cell_type": "markdown",
   "id": "d0dc20d6",
   "metadata": {},
   "source": [
    "### **2.2 Agregar clave privada como secret:**\n",
    "\n",
    "1. Ve a tu repositorio → **Settings** → **Secrets and variables** → **Actions**\n",
    "2. **New repository secret**\n",
    "3. **Name:** `ACTIONS_SSH_KEY` (o cualquier nombre)\n",
    "4. **Secret:** Pega el contenido completo de `id_ed25519` (desde `-----BEGIN` hasta `-----END`)\n",
    "5. **Add secret**"
   ]
  },
  {
   "cell_type": "markdown",
   "id": "656388eb",
   "metadata": {},
   "source": [
    "## 📁 **Paso 3: Organizar tests en repositorio privado**\n",
    "\n",
    "Estructura recomendada en el repositorio privado:"
   ]
  },
  {
   "cell_type": "code",
   "execution_count": null,
   "id": "ddaa26e2",
   "metadata": {
    "vscode": {
     "languageId": "text"
    }
   },
   "outputs": [],
   "source": [
    "Repositorio privado: Tests/\n",
    "├── test_validacion/\n",
    "│   ├── ejercicio1/\n",
    "│   │   ├── test_1.py (validación de no modificación)\n",
    "│   │   └── test_2.py (anti-cheating avanzado)\n",
    "│   ├── ejercicio2/\n",
    "│   │   ├── test_4.py\n",
    "│   │   └── test_5.py\n",
    "│   ├── ejercicio3/\n",
    "│   │   ├── test_6.py\n",
    "│   │   └── test_7.py\n",
    "│   └── ejercicio4/\n",
    "│       ├── test_8.py\n",
    "│       └── test_9.py"
   ]
  },
  {
   "cell_type": "markdown",
   "id": "9814d029",
   "metadata": {},
   "source": [
    "## ⚙️ **Paso 4: Configurar workflow (YAML)**\n",
    "\n",
    "Contenido completo para `.github/workflows/python-tests.yml`:"
   ]
  },
  {
   "cell_type": "code",
   "execution_count": null,
   "id": "c8d91190",
   "metadata": {
    "vscode": {
     "languageId": "yaml"
    }
   },
   "outputs": [],
   "source": [
    "name: Taller NLP Tests\n",
    "\n",
    "on: [push, pull_request]\n",
    "\n",
    "jobs:\n",
    "  test:\n",
    "    runs-on: ubuntu-latest\n",
    "    steps:\n",
    "    - uses: actions/checkout@v4\n",
    "    \n",
    "    - name: Set up Python\n",
    "      uses: actions/setup-python@v5\n",
    "      with:\n",
    "        python-version: '3.10'\n",
    "    \n",
    "    - name: Install dependencies\n",
    "      run: |\n",
    "        python -m pip install --upgrade pip\n",
    "        pip install -r requirements.txt\n",
    "        pip install jupyter nbconvert ipykernel\n",
    "        python -m ipykernel install --user --name=python3\n",
    "\n",
    "    - name: Configurar clave SSH para git\n",
    "      run: |\n",
    "        mkdir -p ~/.ssh\n",
    "        echo \"${{ secrets.ACTIONS_SSH_KEY }}\" > ~/.ssh/id_ed25519\n",
    "        chmod 600 ~/.ssh/id_ed25519\n",
    "        ssh-keyscan github.com >> ~/.ssh/known_hosts\n",
    "\n",
    "    - name: Descargar tests privados desde repo privado\n",
    "      run: |\n",
    "        git clone git@github.com:Procesamiento-del-lenguaje-natural/Tests.git temp_repo\n",
    "        cp temp_repo/test_validacion/ejercicio1/test_2.py tests/ejercicio1/test_2.py\n",
    "        cp temp_repo/test_validacion/ejercicio2/test_4.py tests/ejercicio2/test_4.py\n",
    "        cp temp_repo/test_validacion/ejercicio3/test_6.py tests/ejercicio3/test_6.py\n",
    "        cp temp_repo/test_validacion/ejercicio4/test_8.py tests/ejercicio4/test_8.py\n",
    "        rm -rf temp_repo\n",
    "\n",
    "    - name: Ejecutar notebook ejercicio1\n",
    "      run: |\n",
    "        jupyter nbconvert --to notebook --execute notebooks/ejercicio1.ipynb --output ejercicio1_out.ipynb --ExecutePreprocessor.kernel_name=python3 --ExecutePreprocessor.timeout=300\n",
    "      continue-on-error: true\n",
    "\n",
    "    - name: Run tests ejercicio1 (privados)\n",
    "      run: |\n",
    "        pytest tests/ejercicio1/test_2.py -v\n",
    "      continue-on-error: true\n",
    "\n",
    "    - name: Ejecutar notebook ejercicio2\n",
    "      run: |\n",
    "        jupyter nbconvert --to notebook --execute notebooks/ejercicio2.ipynb --output ejercicio2_out.ipynb --ExecutePreprocessor.kernel_name=python3 --ExecutePreprocessor.timeout=300\n",
    "      continue-on-error: true\n",
    "\n",
    "    - name: Run tests ejercicio2 (privados)\n",
    "      run: |\n",
    "        pytest tests/ejercicio2/test_4.py -v\n",
    "      continue-on-error: true\n",
    "\n",
    "    - name: Ejecutar notebook ejercicio3\n",
    "      run: |\n",
    "        jupyter nbconvert --to notebook --execute notebooks/ejercicio3.ipynb --output ejercicio3_out.ipynb --ExecutePreprocessor.kernel_name=python3 --ExecutePreprocessor.timeout=300\n",
    "      continue-on-error: true\n",
    "\n",
    "    - name: Run tests ejercicio3 (privados)\n",
    "      run: |\n",
    "        pytest tests/ejercicio3/test_6.py -v\n",
    "      continue-on-error: true\n",
    "\n",
    "    - name: Ejecutar notebook ejercicio4\n",
    "      run: |\n",
    "        jupyter nbconvert --to notebook --execute notebooks/ejercicio4.ipynb --output ejercicio4_out.ipynb --ExecutePreprocessor.kernel_name=python3 --ExecutePreprocessor.timeout=300\n",
    "      continue-on-error: true\n",
    "\n",
    "    - name: Run tests ejercicio4 (privados)\n",
    "      run: |\n",
    "        pytest tests/ejercicio4/test_8.py -v\n",
    "      continue-on-error: true"
   ]
  },
  {
   "cell_type": "markdown",
   "id": "a3340bd2",
   "metadata": {},
   "source": [
    "## ✅ **Paso 5: Verificación**\n",
    "\n",
    "1. **Push tu workflow actualizado**\n",
    "2. **Ve a Actions** en tu repositorio para ver la ejecución\n",
    "3. **Verifica que:**\n",
    "   - ✅ SSH se configura correctamente\n",
    "   - ✅ El repo privado se clona sin errores\n",
    "   - ✅ Los tests privados se copian y ejecutan\n",
    "   - ✅ Los estudiantes ven los resultados pero no el código de los tests"
   ]
  },
  {
   "cell_type": "markdown",
   "id": "e08b92c0",
   "metadata": {},
   "source": [
    "## 🎯 **Resultado final:**\n",
    "\n",
    "- **Estudiantes:** Ven resultados de tests, pueden debuggear con los errores mostrados\n",
    "- **Profesor:** Tests completamente privados, imposibles de ver por estudiantes\n",
    "- **Mantenimiento:** Un solo repositorio privado, una sola clave SSH para todo"
   ]
  },
  {
   "cell_type": "markdown",
   "id": "a5f0f722",
   "metadata": {},
   "source": [
    "## 📝 **Notas importantes:** \n",
    "\n",
    "1. **Secret name:** Cambia `ACTIONS_SSH_KEY` por el nombre que usaste al crear el secret\n",
    "2. **Repo URL:** Cambia la URL del repositorio privado por la tuya\n",
    "3. **Paths:** Ajusta las rutas de los tests según tu estructura\n",
    "4. **Tests:** Agrega o quita tests según necesites\n",
    "\n",
    "### **Para agregar más tests:**\n",
    "Solo agrega líneas como:\n",
    "```yaml\n",
    "cp temp_repo/test_validacion/ejercicioX/test_Y.py tests/ejercicioX/test_Y.py\n",
    "```"
   ]
  },
  {
   "cell_type": "markdown",
   "id": "ecb59150",
   "metadata": {},
   "source": [
    "## 🔧 **Comandos útiles de troubleshooting:**"
   ]
  },
  {
   "cell_type": "code",
   "execution_count": null,
   "id": "685b19e1",
   "metadata": {
    "vscode": {
     "languageId": "powershell"
    }
   },
   "outputs": [],
   "source": [
    "# Verificar que las claves existen\n",
    "Test-Path $env:USERPROFILE\\.ssh\\id_ed25519\n",
    "Test-Path $env:USERPROFILE\\.ssh\\id_ed25519.pub\n",
    "\n",
    "# Listar archivos en .ssh\n",
    "Get-ChildItem $env:USERPROFILE\\.ssh\n",
    "\n",
    "# Probar conexión SSH a GitHub\n",
    "ssh -T git@github.com"
   ]
  }
 ],
 "metadata": {
  "language_info": {
   "name": "python"
  }
 },
 "nbformat": 4,
 "nbformat_minor": 5
}

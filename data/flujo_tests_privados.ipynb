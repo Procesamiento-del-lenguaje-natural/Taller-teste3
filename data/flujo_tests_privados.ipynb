{
 "cells": [
  {
   "cell_type": "markdown",
   "id": "cb78a8a3",
   "metadata": {},
   "source": [
    "# 🔐 Flujo de Trabajo: Tests Privados con SSH Keys\n",
    "\n",
    "Este notebook contiene el flujo completo para configurar tests privados usando claves SSH y repositorios privados en GitHub Actions."
   ]
  },
  {
   "cell_type": "markdown",
   "id": "a5f553df",
   "metadata": {},
   "source": [
    "## 📋 **Paso 1: Generar claves SSH (PowerShell)**\n",
    "\n",
    "Ejecuta estos comandos en PowerShell (no en este notebook):"
   ]
  },
  {
   "cell_type": "code",
   "execution_count": null,
   "id": "e09ae0ed",
   "metadata": {
    "vscode": {
     "languageId": "powershell"
    }
   },
   "outputs": [],
   "source": [
    "# Generar par de claves SSH\n",
    "ssh-keygen -t ed25519 -C \"github-actions\"\n",
    "\n",
    "# Presiona Enter en cada pregunta:\n",
    "# - Ruta por defecto (Enter)\n",
    "# - Sin contraseña (Enter)\n",
    "# - Confirmar sin contraseña (Enter)"
   ]
  },
  {
   "cell_type": "code",
   "execution_count": null,
   "id": "109f1318",
   "metadata": {
    "vscode": {
     "languageId": "powershell"
    }
   },
   "outputs": [],
   "source": [
    "# Ver la clave pública (para GitHub)\n",
    "Get-Content $env:USERPROFILE\\.ssh\\id_ed25519.pub\n",
    "\n",
    "# Ver la clave privada (para secret)\n",
    "Get-Content $env:USERPROFILE\\.ssh\\id_ed25519"
   ]
  },
  {
   "cell_type": "markdown",
   "id": "98f3fe18",
   "metadata": {},
   "source": [
    "## 🔑 **Paso 2: Configurar claves en GitHub**"
   ]
  },
  {
   "cell_type": "markdown",
   "id": "07a67850",
   "metadata": {},
   "source": [
    "### **2.1 Agregar clave pública a tu cuenta:**\n",
    "\n",
    "1. Ve a GitHub.com → **Settings** → **SSH and GPG keys** → **New SSH key**\n",
    "2. **Title:** \"Taller Actions Key\" (o cualquier nombre)\n",
    "3. **Key type:** Authentication Key\n",
    "4. **Key:** Pega el contenido de `id_ed25519.pub`\n",
    "5. **Add SSH key**"
   ]
  },
  {
   "cell_type": "markdown",
   "id": "d0dc20d6",
   "metadata": {},
   "source": [
    "### **2.2 Agregar clave privada como secret:**\n",
    "\n",
    "1. Ve a tu repositorio → **Settings** → **Secrets and variables** → **Actions**\n",
    "2. **New repository secret**\n",
    "3. **Name:** `ACTIONS_SSH_KEY` (o cualquier nombre)\n",
    "4. **Secret:** Pega el contenido completo de `id_ed25519` (desde `-----BEGIN` hasta `-----END`)\n",
    "5. **Add secret**"
   ]
  },
  {
   "cell_type": "markdown",
   "id": "656388eb",
   "metadata": {},
   "source": [
    "## 📁 **Paso 3: Organizar tests en repositorio privado**\n",
    "\n",
    "Estructura recomendada en el repositorio privado:"
   ]
  },
  {
   "cell_type": "code",
   "execution_count": null,
   "id": "ddaa26e2",
   "metadata": {
    "vscode": {
     "languageId": "text"
    }
   },
   "outputs": [],
   "source": [
    "Repositorio privado: Tests/\n",
    "├── test_validacion/\n",
    "│   ├── ejercicio1/\n",
    "│   │   ├── test_1.py (validación de no modificación)\n",
    "│   │   └── test_2.py (anti-cheating avanzado)\n",
    "│   ├── ejercicio2/\n",
    "│   │   ├── test_4.py\n",
    "│   │   └── test_5.py\n",
    "│   ├── ejercicio3/\n",
    "│   │   ├── test_6.py\n",
    "│   │   └── test_7.py\n",
    "│   └── ejercicio4/\n",
    "│       ├── test_8.py\n",
    "│       └── test_9.py"
   ]
  },
  {
   "cell_type": "markdown",
   "id": "9814d029",
   "metadata": {},
   "source": [
    "## ⚙️ **Paso 4: Configurar workflow (YAML)**\n",
    "\n",
    "Contenido completo para `.github/workflows/python-tests.yml`:"
   ]
  },
  {
   "cell_type": "code",
   "execution_count": null,
   "id": "c8d91190",
   "metadata": {
    "vscode": {
     "languageId": "yaml"
    }
   },
   "outputs": [],
   "source": [
    "name: Taller NLP Tests\n",
    "\n",
    "on: [push, pull_request]\n",
    "\n",
    "jobs:\n",
    "  test:\n",
    "    runs-on: ubuntu-latest\n",
    "    steps:\n",
    "    - uses: actions/checkout@v4\n",
    "    \n",
    "    - name: Set up Python\n",
    "      uses: actions/setup-python@v5\n",
    "      with:\n",
    "        python-version: '3.10'\n",
    "    \n",
    "    - name: Install dependencies\n",
    "      run: |\n",
    "        python -m pip install --upgrade pip\n",
    "        pip install -r requirements.txt\n",
    "        pip install jupyter nbconvert ipykernel\n",
    "        python -m ipykernel install --user --name=python3\n",
    "\n",
    "    - name: Configurar clave SSH para git\n",
    "      run: |\n",
    "        mkdir -p ~/.ssh\n",
    "        echo \"${{ secrets.ACTIONS_SSH_KEY }}\" > ~/.ssh/id_ed25519\n",
    "        chmod 600 ~/.ssh/id_ed25519\n",
    "        ssh-keyscan github.com >> ~/.ssh/known_hosts\n",
    "\n",
    "    - name: Descargar tests desde MÚLTIPLES repos privados\n",
    "      run: |\n",
    "        # Repo 1: Tests principales\n",
    "        git clone git@github.com:Procesamiento-del-lenguaje-natural/Tests.git tests_repo1\n",
    "        cp tests_repo1/test_validacion/ejercicio1/test_1.py tests/ejercicio1/test_1.py\n",
    "        cp tests_repo1/test_validacion/ejercicio1/test_2.py tests/ejercicio1/test_2.py\n",
    "        \n",
    "        # Repo 2: Tests adicionales (mismo dueño, misma clave)\n",
    "        git clone git@github.com:Procesamiento-del-lenguaje-natural/Tests-Avanzados.git tests_repo2\n",
    "        cp tests_repo2/ejercicio2/test_especial.py tests/ejercicio2/test_especial.py\n",
    "        \n",
    "        # Repo 3: Tests de otro curso (mismo dueño, misma clave)\n",
    "        git clone git@github.com:Procesamiento-del-lenguaje-natural/NLP-Tests.git tests_repo3\n",
    "        cp tests_repo3/validaciones/test_final.py tests/test_final.py\n",
    "        \n",
    "        # Limpiar repos temporales\n",
    "        rm -rf tests_repo1 tests_repo2 tests_repo3\n",
    "\n",
    "    - name: Ejecutar notebook ejercicio1\n",
    "      run: |\n",
    "        jupyter nbconvert --to notebook --execute notebooks/ejercicio1.ipynb --output ejercicio1_out.ipynb --ExecutePreprocessor.kernel_name=python3 --ExecutePreprocessor.timeout=300\n",
    "      continue-on-error: true\n",
    "\n",
    "    - name: Run tests ejercicio1 (desde múltiples repos)\n",
    "      run: |\n",
    "        pytest tests/ejercicio1/test_1.py tests/ejercicio1/test_2.py -v\n",
    "      continue-on-error: true\n",
    "\n",
    "    - name: Run tests especiales (desde repo2)\n",
    "      run: |\n",
    "        pytest tests/ejercicio2/test_especial.py -v\n",
    "      continue-on-error: true"
   ]
  },
  {
   "cell_type": "markdown",
   "id": "a3340bd2",
   "metadata": {},
   "source": [
    "## ✅ **Paso 5: Verificación**\n",
    "\n",
    "1. **Push tu workflow actualizado**\n",
    "2. **Ve a Actions** en tu repositorio para ver la ejecución\n",
    "3. **Verifica que:**\n",
    "   - ✅ SSH se configura correctamente\n",
    "   - ✅ El repo privado se clona sin errores\n",
    "   - ✅ Los tests privados se copian y ejecutan\n",
    "   - ✅ Los estudiantes ven los resultados pero no el código de los tests"
   ]
  },
  {
   "cell_type": "markdown",
   "id": "e08b92c0",
   "metadata": {},
   "source": [
    "## 🎯 **Resultado final:**\n",
    "\n",
    "- **Estudiantes:** Ven resultados de tests, pueden debuggear con los errores mostrados\n",
    "- **Profesor:** Tests completamente privados, imposibles de ver por estudiantes\n",
    "- **Mantenimiento:** Un solo repositorio privado, una sola clave SSH para todo"
   ]
  },
  {
   "cell_type": "markdown",
   "id": "a5f0f722",
   "metadata": {},
   "source": [
    "## 📝 **Notas importantes:** \n",
    "\n",
    "1. **Secret name:** Cambia `ACTIONS_SSH_KEY` por el nombre que usaste al crear el secret\n",
    "2. **Repo URL:** Cambia la URL del repositorio privado por la tuya\n",
    "3. **Paths:** Ajusta las rutas de los tests según tu estructura\n",
    "4. **Tests:** Agrega o quita tests según necesites\n",
    "\n",
    "### **Para agregar más tests:**\n",
    "Solo agrega líneas como:\n",
    "```yaml\n",
    "cp temp_repo/test_validacion/ejercicioX/test_Y.py tests/ejercicioX/test_Y.py\n",
    "```"
   ]
  },
  {
   "cell_type": "markdown",
   "id": "18cb3ad4",
   "metadata": {},
   "source": [
    "## 🏢 **Estrategia de organización académica (RECOMENDADA)**\n",
    "\n",
    "### 🎯 **Arquitectura ideal para una materia:**\n",
    "- **🔑 Una sola clave SSH** para toda la organización\n",
    "- **📁 Un solo repo privado** con TODOS los tests de la materia\n",
    "- **🚀 Múltiples repos públicos** de estudiantes usando la misma clave\n",
    "\n",
    "### 📋 **Estructura recomendada:**\n",
    "```\n",
    "Organización: Procesamiento-del-lenguaje-natural/\n",
    "├── 🔒 Tests/ (PRIVADO - Un solo repo para toda la materia)\n",
    "│   └── test_validacion/\n",
    "│       ├── taller1/\n",
    "│       │   ├── ejercicio1/ (test_1.py, test_2.py)\n",
    "│       │   ├── ejercicio2/ (test_4.py, test_5.py)\n",
    "│       │   └── ejercicio3/ (test_6.py, test_7.py)\n",
    "│       ├── taller2/\n",
    "│       ├── parcial1/\n",
    "│       ├── proyecto_final/\n",
    "│       └── examenes/\n",
    "└── 📚 Repos de estudiantes (PÚBLICOS):\n",
    "    ├── Taller-1-teste3/\n",
    "    ├── Taller-2-equipo1/\n",
    "    ├── Parcial-1-estudiante2/\n",
    "    └── Proyecto-final-grupo3/\n",
    "```\n",
    "\n",
    "### ✅ **Beneficios de esta estrategia:**\n",
    "- **🔐 Seguridad:** Una clave controla todo\n",
    "- **🚀 Eficiencia:** Un solo `git clone` para todos los tests\n",
    "- **📚 Organización:** Tests organizados por evaluación\n",
    "- **👥 Colaboración:** Profesores pueden contribuir fácilmente\n",
    "- **🔄 Mantenimiento:** Actualizaciones centralizadas\n",
    "\n",
    "### 🎯 **Workflow tipo para cualquier repo de la organización:**\n",
    "```yaml\n",
    "# Mismo bloque SSH para TODOS los repos de estudiantes\n",
    "- name: Configurar clave SSH (una vez para toda la org)\n",
    "  run: |\n",
    "    mkdir -p ~/.ssh\n",
    "    echo \"${{ secrets.ORG_TESTS_SSH_KEY }}\" > ~/.ssh/id_ed25519\n",
    "    chmod 600 ~/.ssh/id_ed25519\n",
    "    ssh-keyscan github.com >> ~/.ssh/known_hosts\n",
    "\n",
    "# Descargar tests específicos según el taller\n",
    "- name: Descargar tests del taller actual\n",
    "  run: |\n",
    "    git clone git@github.com:Procesamiento-del-lenguaje-natural/Tests.git tests_repo\n",
    "    # Para Taller 1\n",
    "    cp tests_repo/test_validacion/taller1/ejercicio1/* tests/ejercicio1/\n",
    "    cp tests_repo/test_validacion/taller1/ejercicio2/* tests/ejercicio2/\n",
    "    # Para Parcial 1\n",
    "    # cp tests_repo/test_validacion/parcial1/* tests/\n",
    "    rm -rf tests_repo\n",
    "```"
   ]
  },
  {
   "cell_type": "markdown",
   "id": "cb645259",
   "metadata": {},
   "source": [
    "## 🔧 **Configuración para organizaciones académicas**\n",
    "\n",
    "### 📝 **Pasos específicos para tu caso:**\n",
    "\n",
    "#### 1. **Crear el secret a nivel de organización:**\n",
    "- Ve a GitHub → **Tu organización** → **Settings** → **Secrets and variables** → **Actions**\n",
    "- **New organization secret**: `ORG_TESTS_SSH_KEY`\n",
    "- **Repository access**: \"Selected repositories\" → Selecciona todos los repos de estudiantes\n",
    "- **Value**: Tu clave privada SSH\n",
    "\n",
    "#### 2. **Estructura del repo privado de tests:**\n",
    "```\n",
    "Tests/ (PRIVADO)\n",
    "├── README.md (documentación para profesores)\n",
    "├── test_validacion/\n",
    "│   ├── taller1/\n",
    "│   │   ├── ejercicio1/\n",
    "│   │   │   ├── test_1.py (validación básica)\n",
    "│   │   │   └── test_2.py (anti-cheating)\n",
    "│   │   ├── ejercicio2/\n",
    "│   │   └── ejercicio3/\n",
    "│   ├── taller2/\n",
    "│   ├── parcial1/\n",
    "│   └── proyecto_final/\n",
    "└── utils/\n",
    "    ├── common_functions.py (funciones compartidas)\n",
    "    └── test_templates.py (plantillas para nuevos tests)\n",
    "```\n",
    "\n",
    "#### 3. **Workflow estándar para repos de estudiantes:**\n",
    "```yaml\n",
    "# En CADA repo de estudiante, usar el mismo bloque:\n",
    "- name: Configurar acceso a tests privados\n",
    "  run: |\n",
    "    mkdir -p ~/.ssh\n",
    "    echo \"${{ secrets.ORG_TESTS_SSH_KEY }}\" > ~/.ssh/id_ed25519\n",
    "    chmod 600 ~/.ssh/id_ed25519\n",
    "    ssh-keyscan github.com >> ~/.ssh/known_hosts\n",
    "\n",
    "- name: Descargar tests específicos\n",
    "  run: |\n",
    "    git clone git@github.com:Procesamiento-del-lenguaje-natural/Tests.git tests_repo\n",
    "    # Copia solo los tests que necesita este taller específico\n",
    "    cp tests_repo/test_validacion/taller1/ejercicio1/* tests/ejercicio1/ 2>/dev/null || true\n",
    "    cp tests_repo/test_validacion/taller1/ejercicio2/* tests/ejercicio2/ 2>/dev/null || true\n",
    "    rm -rf tests_repo\n",
    "```\n",
    "\n",
    "### 🎯 **Resultado:**\n",
    "- **Un secret** → **Todos los repos de la materia**\n",
    "- **Un repo privado** → **Todos los tests organizados**\n",
    "- **Copia selectiva** → **Solo tests relevantes por taller**"
   ]
  },
  {
   "cell_type": "markdown",
   "id": "ecb59150",
   "metadata": {},
   "source": [
    "## 🔧 **Comandos útiles de troubleshooting:**"
   ]
  },
  {
   "cell_type": "code",
   "execution_count": null,
   "id": "685b19e1",
   "metadata": {
    "vscode": {
     "languageId": "powershell"
    }
   },
   "outputs": [],
   "source": [
    "# Verificar que las claves existen\n",
    "Test-Path $env:USERPROFILE\\.ssh\\id_ed25519\n",
    "Test-Path $env:USERPROFILE\\.ssh\\id_ed25519.pub\n",
    "\n",
    "# Listar archivos en .ssh\n",
    "Get-ChildItem $env:USERPROFILE\\.ssh\n",
    "\n",
    "# Probar conexión SSH a GitHub\n",
    "ssh -T git@github.com"
   ]
  }
 ],
 "metadata": {
  "language_info": {
   "name": "python"
  }
 },
 "nbformat": 4,
 "nbformat_minor": 5
}
